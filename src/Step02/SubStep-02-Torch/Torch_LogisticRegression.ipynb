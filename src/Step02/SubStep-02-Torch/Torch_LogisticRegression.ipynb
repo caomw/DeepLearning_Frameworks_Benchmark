{
 "cells": [
  {
   "cell_type": "code",
   "execution_count": 8,
   "metadata": {
    "collapsed": false
   },
   "outputs": [
    {
     "data": {
      "text/plain": [
       "{\n"
      ]
     },
     "execution_count": 8,
     "metadata": {},
     "output_type": "execute_result"
    },
    {
     "data": {
      "text/plain": [
       "  data : ByteTensor - size: 60000x1x32x32\n",
       "  size : function: 0x41665b80\n",
       "  labels : ByteTensor - size: 60000\n",
       "}\n",
       "{\n",
       "  data : ByteTensor - size: 10000x1x32x32\n",
       "  size : function: 0x41665c08\n",
       "  labels : ByteTensor - size: 10000\n",
       "}\n"
      ]
     },
     "execution_count": 8,
     "metadata": {},
     "output_type": "execute_result"
    }
   ],
   "source": [
    "require 'nn'\n",
    "require 'image'\n",
    "require 'torch'\n",
    "require 'xlua'\n",
    "require 'optim'\n",
    "--\n",
    "trainData = torch.load('mnist.t7/train_32x32.t7', 'ascii')\n",
    "testData  = torch.load('mnist.t7/test_32x32.t7', 'ascii')\n",
    "trainData.size=function() return (#trainData.labels)[1] end\n",
    "testData.size =function() return (#testData.labels)[1] end\n",
    "print(trainData)\n",
    "print(testData)"
   ]
  },
  {
   "cell_type": "code",
   "execution_count": 9,
   "metadata": {
    "collapsed": false,
    "scrolled": true
   },
   "outputs": [
    {
     "data": {
      "text/plain": [
       "==> here is the weights:\t\n"
      ]
     },
     "execution_count": 9,
     "metadata": {},
     "output_type": "execute_result"
    },
    {
     "data": {
      "image/png": "[encoded data removed]",
      "text/plain": [
       "Console does not support images"
      ]
     },
     "metadata": {
      "image/png": {
       "height": 68,
       "width": 204
      }
     },
     "output_type": "display_data"
    },
    {
     "data": {
      "text/plain": [
       "==> here is the model:\t\n",
       "nn.Sequential {\n",
       "  [input -> (1) -> (2) -> (3) -> output]\n",
       "  (1): nn.Reshape(1024)\n",
       "  (2): nn.Linear(1024 -> 10)\n",
       "  (3): nn.LogSoftMax\n",
       "}\n",
       "{\n",
       "  gradInput : DoubleTensor - empty\n",
       "  modules : \n",
       "    {\n",
       "      1 : \n"
      ]
     },
     "execution_count": 9,
     "metadata": {},
     "output_type": "execute_result"
    },
    {
     "data": {
      "text/plain": [
       "        nn.Reshape(1024)\n",
       "        {\n",
       "          output : DoubleTensor - empty\n",
       "          gradInput : DoubleTensor - empty\n",
       "          size : LongStorage - size: 1\n",
       "          nelement : 1024\n",
       "          batchsize : LongStorage - size: 2\n",
       "        }\n",
       "      2 : \n",
       "        nn.Linear(1024 -> 10)\n",
       "        {\n",
       "          gradBias : DoubleTensor - size: 10\n",
       "          weight : DoubleTensor - size: 10x1024\n",
       "          gradWeight : DoubleTensor - size: 10x1024\n",
       "          gradInput : DoubleTensor - empty\n",
       "          bias : DoubleTensor - size: 10\n",
       "          output : DoubleTensor - empty\n",
       "        }\n",
       "      3 : \n",
       "        nn.LogSoftMax\n",
       "        {\n",
       "          gradInput : DoubleTensor - empty\n",
       "          output : DoubleTensor - empty\n",
       "        }\n",
       "    }\n",
       "  output : DoubleTensor - empty\n",
       "}\n",
       "==> here is the criterion:\t\n",
       "nn.ClassNLLCriterion\n",
       "{\n",
       "  sizeAverage : true\n",
       "  output : 0\n",
       "  gradInput : DoubleTensor - empty\n",
       "  output_tensor : DoubleTensor - size: 1\n",
       "  target : LongTensor - size: 1\n",
       "  total_weight_tensor : DoubleTensor - size: 1\n",
       "}\n"
      ]
     },
     "execution_count": 9,
     "metadata": {},
     "output_type": "execute_result"
    }
   ],
   "source": [
    "nfeats=1\n",
    "nrow=32\n",
    "ncol=32\n",
    "ninputs=nfeats*nrow*ncol\n",
    "noutputs = 10\n",
    "--\n",
    "model=nn.Sequential()\n",
    "model:add(nn.Reshape(ninputs))\n",
    "model:add(nn.Linear(ninputs, noutputs))\n",
    "model:add(nn.LogSoftMax())\n",
    "--\n",
    "print '==> here is the weights:'\n",
    "itorch.image(model:get(2).weight:view(10,1,32,32))\n",
    "--\n",
    "print '==> here is the model:'\n",
    "print(model)\n",
    "--\n",
    "criterion = nn.ClassNLLCriterion()\n",
    "print '==> here is the criterion:'\n",
    "print(criterion)"
   ]
  },
  {
   "cell_type": "code",
   "execution_count": 10,
   "metadata": {
    "collapsed": false,
    "scrolled": true
   },
   "outputs": [
    {
     "data": {
      "text/plain": [
       "trsize=60000\t\n",
       "tesize=10000\t\n"
      ]
     },
     "execution_count": 10,
     "metadata": {},
     "output_type": "execute_result"
    },
    {
     "data": {
      "text/plain": [
       "==> defining train procedure\t\n",
       "==> defining test procedure\t\n"
      ]
     },
     "execution_count": 10,
     "metadata": {},
     "output_type": "execute_result"
    }
   ],
   "source": [
    "trsize=trainData:size()\n",
    "tesize=testData:size()\n",
    "print('trsize=' .. trsize)\n",
    "print('tesize=' .. tesize)\n",
    "--\n",
    "classes = {'1','2','3','4','5','6','7','8','9','0'}\n",
    "confusion = optim.ConfusionMatrix(classes)\n",
    "trainLogger = optim.Logger(paths.concat('results', 'train.log'))\n",
    "testLogger = optim.Logger(paths.concat('results', 'test.log'))\n",
    "--\n",
    "opt={}\n",
    "opt.save='results'\n",
    "opt.type='double'\n",
    "opt.batchSize=64\n",
    "if model then\n",
    "    parameters,gradParameters = model:getParameters()\n",
    "end\n",
    "optimState = {\n",
    "    learningRate = 0.01,\n",
    "    weightDecay  = 0,\n",
    "    momentum     = 0,\n",
    "    learningRateDecay = 1e-7\n",
    "}\n",
    "optimMethod = optim.sgd\n",
    "--\n",
    "print '==> defining train procedure'\n",
    "function train()\n",
    "    epoch = epoch or 1\n",
    "    local time = sys.clock()\n",
    "    model:training()\n",
    "    -- shuffle at each epoch\n",
    "    shuffle = torch.randperm(trsize)\n",
    "    -- do one epoch\n",
    "    print('==> doing epoch on training data:')\n",
    "    print(\"==> online epoch # \" .. epoch .. ' [batchSize = ' .. opt.batchSize .. ']')\n",
    "    for t = 1,trainData:size(),opt.batchSize do\n",
    "        xlua.progress(t, trainData:size())\n",
    "        -- create mini batch\n",
    "        local inputs = {}\n",
    "        local targets = {}\n",
    "        for i = t,math.min(t+opt.batchSize-1,trainData:size()) do\n",
    "            -- load new sample\n",
    "            local input = trainData.data[shuffle[i]]\n",
    "            local target = trainData.labels[shuffle[i]]\n",
    "            if opt.type == 'double' then\n",
    "                input = input:double()\n",
    "            elseif opt.type == 'cuda' then\n",
    "                input = input:cuda()\n",
    "            end\n",
    "            table.insert(inputs, input)\n",
    "            table.insert(targets, target)\n",
    "        end\n",
    "        --\n",
    "        local feval = function(x)\n",
    "            -- get new parameters\n",
    "            if x ~= parameters then\n",
    "                parameters:copy(x)\n",
    "            end\n",
    "            -- reset gradients\n",
    "            gradParameters:zero()\n",
    "            -- f is the average of all criterions\n",
    "            local f = 0\n",
    "            -- evaluate function for complete mini batch\n",
    "            for i = 1,#inputs do\n",
    "                -- estimate f\n",
    "                local output = model:forward(inputs[i])\n",
    "                local err = criterion:forward(output, targets[i])\n",
    "                f = f + err\n",
    "                -- estimate df/dW\n",
    "                local df_do = criterion:backward(output, targets[i])\n",
    "                model:backward(inputs[i], df_do)\n",
    "                -- update confusion\n",
    "                confusion:add(torch.reshape(output,noutputs), targets[i])\n",
    "            end\n",
    "            \n",
    "            -- normalize gradients and f(X)\n",
    "            gradParameters:div(#inputs)\n",
    "            f = f/#inputs\n",
    "            -- return f and df/dX\n",
    "            return f,gradParameters\n",
    "        end\n",
    "        -- optimize on current mini-batch\n",
    "        optimMethod(feval, parameters, optimState)\n",
    "    end\n",
    "    -- time taken\n",
    "    time = sys.clock() - time\n",
    "    time = time / trainData:size()\n",
    "    print(\"\\n==> time to learn 1 sample = \" .. (time*1000) .. 'ms')\n",
    "    -- print confusion matrix\n",
    "    print(confusion)\n",
    "    -- update logger/plot\n",
    "    trainLogger:add{['% mean class accuracy (train set)'] = confusion.totalValid * 100}\n",
    "    if opt.plot then\n",
    "        trainLogger:style{['% mean class accuracy (train set)'] = '-'}\n",
    "        trainLogger:plot()\n",
    "    end\n",
    "    -- save/log current net\n",
    "    local filename = paths.concat(opt.save, 'model.net')\n",
    "    os.execute('mkdir -p ' .. sys.dirname(filename))\n",
    "    print('==> saving model to '..filename)\n",
    "    torch.save(filename, model)\n",
    "    -- next epoch\n",
    "    confusion:zero()\n",
    "    epoch = epoch + 1\n",
    "end\n",
    "--\n",
    "\n",
    "print '==> defining test procedure'\n",
    "-- test function\n",
    "function test()\n",
    "   -- local vars\n",
    "   local time = sys.clock()\n",
    "\n",
    "   -- averaged param use?\n",
    "   if average then\n",
    "      cachedparams = parameters:clone()\n",
    "      parameters:copy(average)\n",
    "   end\n",
    "\n",
    "   -- set model to evaluate mode (for modules that differ in training and testing, like Dropout)\n",
    "   model:evaluate()\n",
    "\n",
    "   -- test over test data\n",
    "   print('==> testing on test set:')\n",
    "   for t = 1,testData:size() do\n",
    "      -- disp progress\n",
    "      xlua.progress(t, testData:size())\n",
    "\n",
    "      -- get new sample\n",
    "      local input = testData.data[t]\n",
    "      if opt.type == 'double' then input = input:double()\n",
    "      elseif opt.type == 'cuda' then input = input:cuda() end\n",
    "      local target = testData.labels[t]\n",
    "\n",
    "      -- test sample\n",
    "      local pred = model:forward(input)\n",
    "      confusion:add(torch.reshape(pred,noutputs), target)\n",
    "   end\n",
    "\n",
    "   -- timing\n",
    "   time = sys.clock() - time\n",
    "   time = time / testData:size()\n",
    "   print(\"\\n==> time to test 1 sample = \" .. (time*1000) .. 'ms')\n",
    "\n",
    "   -- print confusion matrix\n",
    "   print(confusion)\n",
    "\n",
    "   -- update log/plot\n",
    "   testLogger:add{['% mean class accuracy (test set)'] = confusion.totalValid * 100}\n",
    "   if opt.plot then\n",
    "      testLogger:style{['% mean class accuracy (test set)'] = '-'}\n",
    "      testLogger:plot()\n",
    "   end\n",
    "\n",
    "   -- averaged param use?\n",
    "   if average then\n",
    "      -- restore parameters\n",
    "      parameters:copy(cachedparams)\n",
    "   end\n",
    "   \n",
    "   -- next iteration:\n",
    "   confusion:zero()\n",
    "end"
   ]
  },
  {
   "cell_type": "code",
   "execution_count": 11,
   "metadata": {
    "collapsed": false,
    "scrolled": true
   },
   "outputs": [
    {
     "data": {
      "text/plain": [
       "==> doing epoch on training data:\t\n",
       "==> online epoch # 1 [batchSize = 64]\t\n"
      ]
     },
     "execution_count": 11,
     "metadata": {},
     "output_type": "execute_result"
    },
    {
     "data": {
      "text/plain": [
       "Progress: 257 / 60000\t\n"
      ]
     },
     "execution_count": 11,
     "metadata": {},
     "output_type": "execute_result"
    },
    {
     "data": {
      "text/plain": [
       "Progress: 513 / 60000\t\n"
      ]
     },
     "execution_count": 11,
     "metadata": {},
     "output_type": "execute_result"
    },
    {
     "data": {
      "text/plain": [
       "Progress: 769 / 60000\t\n"
      ]
     },
     "execution_count": 11,
     "metadata": {},
     "output_type": "execute_result"
    },
    {
     "data": {
      "text/plain": [
       "Progress: 1025 / 60000\t\n"
      ]
     },
     "execution_count": 11,
     "metadata": {},
     "output_type": "execute_result"
    },
    {
     "data": {
      "text/plain": [
       "Progress: 1281 / 60000\t\n"
      ]
     },
     "execution_count": 11,
     "metadata": {},
     "output_type": "execute_result"
    },
    {
     "data": {
      "text/plain": [
       "Progress: 1537 / 60000\t\n"
      ]
     },
     "execution_count": 11,
     "metadata": {},
     "output_type": "execute_result"
    },
    {
     "data": {
      "text/plain": [
       "Progress: 1793 / 60000\t\n"
      ]
     },
     "execution_count": 11,
     "metadata": {},
     "output_type": "execute_result"
    },
    {
     "data": {
      "text/plain": [
       "Progress: 2049 / 60000\t\n"
      ]
     },
     "execution_count": 11,
     "metadata": {},
     "output_type": "execute_result"
    },
    {
     "data": {
      "text/plain": [
       "Progress: 2305 / 60000\t\n"
      ]
     },
     "execution_count": 11,
     "metadata": {},
     "output_type": "execute_result"
    },
    {
     "data": {
      "text/plain": [
       "Progress: 2561 / 60000\t\n"
      ]
     },
     "execution_count": 11,
     "metadata": {},
     "output_type": "execute_result"
    },
    {
     "data": {
      "text/plain": [
       "Progress: 2817 / 60000\t\n"
      ]
     },
     "execution_count": 11,
     "metadata": {},
     "output_type": "execute_result"
    },
    {
     "data": {
      "text/plain": [
       "Progress: 3073 / 60000\t\n"
      ]
     },
     "execution_count": 11,
     "metadata": {},
     "output_type": "execute_result"
    },
    {
     "data": {
      "text/plain": [
       "Progress: 3329 / 60000\t\n"
      ]
     },
     "execution_count": 11,
     "metadata": {},
     "output_type": "execute_result"
    },
    {
     "data": {
      "text/plain": [
       "Progress: 3585 / 60000\t\n"
      ]
     },
     "execution_count": 11,
     "metadata": {},
     "output_type": "execute_result"
    },
    {
     "data": {
      "text/plain": [
       "Progress: 3841 / 60000\t\n"
      ]
     },
     "execution_count": 11,
     "metadata": {},
     "output_type": "execute_result"
    },
    {
     "data": {
      "text/plain": [
       "Progress: 4097 / 60000\t\n"
      ]
     },
     "execution_count": 11,
     "metadata": {},
     "output_type": "execute_result"
    },
    {
     "data": {
      "text/plain": [
       "Progress: 4353 / 60000\t\n"
      ]
     },
     "execution_count": 11,
     "metadata": {},
     "output_type": "execute_result"
    },
    {
     "data": {
      "text/plain": [
       "Progress: 4609 / 60000\t\n"
      ]
     },
     "execution_count": 11,
     "metadata": {},
     "output_type": "execute_result"
    },
    {
     "data": {
      "text/plain": [
       "Progress: 4865 / 60000\t\n"
      ]
     },
     "execution_count": 11,
     "metadata": {},
     "output_type": "execute_result"
    },
    {
     "data": {
      "text/plain": [
       "Progress: 5121 / 60000\t\n"
      ]
     },
     "execution_count": 11,
     "metadata": {},
     "output_type": "execute_result"
    },
    {
     "data": {
      "text/plain": [
       "Progress: 5377 / 60000\t\n"
      ]
     },
     "execution_count": 11,
     "metadata": {},
     "output_type": "execute_result"
    },
    {
     "data": {
      "text/plain": [
       "Progress: 5633 / 60000\t\n"
      ]
     },
     "execution_count": 11,
     "metadata": {},
     "output_type": "execute_result"
    },
    {
     "data": {
      "text/plain": [
       "Progress: 5889 / 60000\t\n"
      ]
     },
     "execution_count": 11,
     "metadata": {},
     "output_type": "execute_result"
    },
    {
     "data": {
      "text/plain": [
       "Progress: 6145 / 60000\t\n"
      ]
     },
     "execution_count": 11,
     "metadata": {},
     "output_type": "execute_result"
    },
    {
     "data": {
      "text/plain": [
       "Progress: 6401 / 60000\t\n"
      ]
     },
     "execution_count": 11,
     "metadata": {},
     "output_type": "execute_result"
    },
    {
     "data": {
      "text/plain": [
       "Progress: 6657 / 60000\t\n"
      ]
     },
     "execution_count": 11,
     "metadata": {},
     "output_type": "execute_result"
    },
    {
     "data": {
      "text/plain": [
       "Progress: 6913 / 60000\t\n"
      ]
     },
     "execution_count": 11,
     "metadata": {},
     "output_type": "execute_result"
    },
    {
     "data": {
      "text/plain": [
       "Progress: 7169 / 60000\t\n"
      ]
     },
     "execution_count": 11,
     "metadata": {},
     "output_type": "execute_result"
    },
    {
     "data": {
      "text/plain": [
       "Progress: 7425 / 60000\t\n"
      ]
     },
     "execution_count": 11,
     "metadata": {},
     "output_type": "execute_result"
    },
    {
     "data": {
      "text/plain": [
       "Progress: 7681 / 60000\t\n"
      ]
     },
     "execution_count": 11,
     "metadata": {},
     "output_type": "execute_result"
    },
    {
     "data": {
      "text/plain": [
       "Progress: 7937 / 60000\t\n"
      ]
     },
     "execution_count": 11,
     "metadata": {},
     "output_type": "execute_result"
    },
    {
     "data": {
      "text/plain": [
       "Progress: 8193 / 60000\t\n"
      ]
     },
     "execution_count": 11,
     "metadata": {},
     "output_type": "execute_result"
    },
    {
     "data": {
      "text/plain": [
       "Progress: 8449 / 60000\t\n"
      ]
     },
     "execution_count": 11,
     "metadata": {},
     "output_type": "execute_result"
    },
    {
     "data": {
      "text/plain": [
       "Progress: 8705 / 60000\t\n"
      ]
     },
     "execution_count": 11,
     "metadata": {},
     "output_type": "execute_result"
    },
    {
     "data": {
      "text/plain": [
       "Progress: 8961 / 60000\t\n"
      ]
     },
     "execution_count": 11,
     "metadata": {},
     "output_type": "execute_result"
    },
    {
     "data": {
      "text/plain": [
       "Progress: 9217 / 60000\t\n"
      ]
     },
     "execution_count": 11,
     "metadata": {},
     "output_type": "execute_result"
    },
    {
     "data": {
      "text/plain": [
       "Progress: 9473 / 60000\t\n"
      ]
     },
     "execution_count": 11,
     "metadata": {},
     "output_type": "execute_result"
    },
    {
     "data": {
      "text/plain": [
       "Progress: 9729 / 60000\t\n"
      ]
     },
     "execution_count": 11,
     "metadata": {},
     "output_type": "execute_result"
    },
    {
     "data": {
      "text/plain": [
       "Progress: 9985 / 60000\t\n"
      ]
     },
     "execution_count": 11,
     "metadata": {},
     "output_type": "execute_result"
    },
    {
     "data": {
      "text/plain": [
       "Progress: 10241 / 60000\t\n"
      ]
     },
     "execution_count": 11,
     "metadata": {},
     "output_type": "execute_result"
    },
    {
     "data": {
      "text/plain": [
       "Progress: 10497 / 60000\t\n"
      ]
     },
     "execution_count": 11,
     "metadata": {},
     "output_type": "execute_result"
    },
    {
     "data": {
      "text/plain": [
       "Progress: 10753 / 60000\t\n"
      ]
     },
     "execution_count": 11,
     "metadata": {},
     "output_type": "execute_result"
    },
    {
     "data": {
      "text/plain": [
       "Progress: 11009 / 60000\t\n"
      ]
     },
     "execution_count": 11,
     "metadata": {},
     "output_type": "execute_result"
    },
    {
     "data": {
      "text/plain": [
       "Progress: 11265 / 60000\t\n"
      ]
     },
     "execution_count": 11,
     "metadata": {},
     "output_type": "execute_result"
    },
    {
     "data": {
      "text/plain": [
       "Progress: 11521 / 60000\t\n"
      ]
     },
     "execution_count": 11,
     "metadata": {},
     "output_type": "execute_result"
    },
    {
     "data": {
      "text/plain": [
       "Progress: 11777 / 60000\t\n"
      ]
     },
     "execution_count": 11,
     "metadata": {},
     "output_type": "execute_result"
    },
    {
     "data": {
      "text/plain": [
       "Progress: 12033 / 60000\t\n"
      ]
     },
     "execution_count": 11,
     "metadata": {},
     "output_type": "execute_result"
    },
    {
     "data": {
      "text/plain": [
       "Progress: 12289 / 60000\t\n"
      ]
     },
     "execution_count": 11,
     "metadata": {},
     "output_type": "execute_result"
    },
    {
     "data": {
      "text/plain": [
       "Progress: 12545 / 60000\t\n"
      ]
     },
     "execution_count": 11,
     "metadata": {},
     "output_type": "execute_result"
    },
    {
     "data": {
      "text/plain": [
       "Progress: 12801 / 60000\t\n"
      ]
     },
     "execution_count": 11,
     "metadata": {},
     "output_type": "execute_result"
    },
    {
     "data": {
      "text/plain": [
       "Progress: 13057 / 60000\t\n"
      ]
     },
     "execution_count": 11,
     "metadata": {},
     "output_type": "execute_result"
    },
    {
     "data": {
      "text/plain": [
       "Progress: 13313 / 60000\t\n"
      ]
     },
     "execution_count": 11,
     "metadata": {},
     "output_type": "execute_result"
    },
    {
     "data": {
      "text/plain": [
       "Progress: 13569 / 60000\t\n"
      ]
     },
     "execution_count": 11,
     "metadata": {},
     "output_type": "execute_result"
    },
    {
     "data": {
      "text/plain": [
       "Progress: 13825 / 60000\t\n"
      ]
     },
     "execution_count": 11,
     "metadata": {},
     "output_type": "execute_result"
    },
    {
     "data": {
      "text/plain": [
       "Progress: 14081 / 60000\t\n"
      ]
     },
     "execution_count": 11,
     "metadata": {},
     "output_type": "execute_result"
    },
    {
     "data": {
      "text/plain": [
       "Progress: 14337 / 60000\t\n"
      ]
     },
     "execution_count": 11,
     "metadata": {},
     "output_type": "execute_result"
    },
    {
     "data": {
      "text/plain": [
       "Progress: 14593 / 60000\t\n"
      ]
     },
     "execution_count": 11,
     "metadata": {},
     "output_type": "execute_result"
    },
    {
     "data": {
      "text/plain": [
       "Progress: 14849 / 60000\t\n"
      ]
     },
     "execution_count": 11,
     "metadata": {},
     "output_type": "execute_result"
    },
    {
     "data": {
      "text/plain": [
       "Progress: 15105 / 60000\t\n"
      ]
     },
     "execution_count": 11,
     "metadata": {},
     "output_type": "execute_result"
    },
    {
     "data": {
      "text/plain": [
       "Progress: 15361 / 60000\t\n"
      ]
     },
     "execution_count": 11,
     "metadata": {},
     "output_type": "execute_result"
    },
    {
     "data": {
      "text/plain": [
       "Progress: 15617 / 60000\t\n"
      ]
     },
     "execution_count": 11,
     "metadata": {},
     "output_type": "execute_result"
    },
    {
     "data": {
      "text/plain": [
       "Progress: 15873 / 60000\t\n"
      ]
     },
     "execution_count": 11,
     "metadata": {},
     "output_type": "execute_result"
    },
    {
     "data": {
      "text/plain": [
       "Progress: 16129 / 60000\t\n"
      ]
     },
     "execution_count": 11,
     "metadata": {},
     "output_type": "execute_result"
    },
    {
     "data": {
      "text/plain": [
       "Progress: 16385 / 60000\t\n"
      ]
     },
     "execution_count": 11,
     "metadata": {},
     "output_type": "execute_result"
    },
    {
     "data": {
      "text/plain": [
       "Progress: 16641 / 60000\t\n"
      ]
     },
     "execution_count": 11,
     "metadata": {},
     "output_type": "execute_result"
    },
    {
     "data": {
      "text/plain": [
       "Progress: 16897 / 60000\t\n"
      ]
     },
     "execution_count": 11,
     "metadata": {},
     "output_type": "execute_result"
    },
    {
     "data": {
      "text/plain": [
       "Progress: 17153 / 60000\t\n"
      ]
     },
     "execution_count": 11,
     "metadata": {},
     "output_type": "execute_result"
    },
    {
     "data": {
      "text/plain": [
       "Progress: 17409 / 60000\t\n"
      ]
     },
     "execution_count": 11,
     "metadata": {},
     "output_type": "execute_result"
    },
    {
     "data": {
      "text/plain": [
       "Progress: 17665 / 60000\t\n"
      ]
     },
     "execution_count": 11,
     "metadata": {},
     "output_type": "execute_result"
    },
    {
     "data": {
      "text/plain": [
       "Progress: 17921 / 60000\t\n"
      ]
     },
     "execution_count": 11,
     "metadata": {},
     "output_type": "execute_result"
    },
    {
     "data": {
      "text/plain": [
       "Progress: 18177 / 60000\t\n"
      ]
     },
     "execution_count": 11,
     "metadata": {},
     "output_type": "execute_result"
    },
    {
     "data": {
      "text/plain": [
       "Progress: 18433 / 60000\t\n"
      ]
     },
     "execution_count": 11,
     "metadata": {},
     "output_type": "execute_result"
    },
    {
     "data": {
      "text/plain": [
       "Progress: 18689 / 60000\t\n"
      ]
     },
     "execution_count": 11,
     "metadata": {},
     "output_type": "execute_result"
    },
    {
     "data": {
      "text/plain": [
       "Progress: 18945 / 60000\t\n"
      ]
     },
     "execution_count": 11,
     "metadata": {},
     "output_type": "execute_result"
    },
    {
     "data": {
      "text/plain": [
       "Progress: 19201 / 60000\t\n"
      ]
     },
     "execution_count": 11,
     "metadata": {},
     "output_type": "execute_result"
    },
    {
     "data": {
      "text/plain": [
       "Progress: 19457 / 60000\t\n"
      ]
     },
     "execution_count": 11,
     "metadata": {},
     "output_type": "execute_result"
    },
    {
     "data": {
      "text/plain": [
       "Progress: 19713 / 60000\t\n"
      ]
     },
     "execution_count": 11,
     "metadata": {},
     "output_type": "execute_result"
    },
    {
     "data": {
      "text/plain": [
       "Progress: 19969 / 60000\t\n"
      ]
     },
     "execution_count": 11,
     "metadata": {},
     "output_type": "execute_result"
    },
    {
     "data": {
      "text/plain": [
       "Progress: 20225 / 60000\t\n"
      ]
     },
     "execution_count": 11,
     "metadata": {},
     "output_type": "execute_result"
    },
    {
     "data": {
      "text/plain": [
       "Progress: 20481 / 60000\t\n"
      ]
     },
     "execution_count": 11,
     "metadata": {},
     "output_type": "execute_result"
    },
    {
     "data": {
      "text/plain": [
       "Progress: 20737 / 60000\t\n"
      ]
     },
     "execution_count": 11,
     "metadata": {},
     "output_type": "execute_result"
    },
    {
     "data": {
      "text/plain": [
       "Progress: 20993 / 60000\t\n"
      ]
     },
     "execution_count": 11,
     "metadata": {},
     "output_type": "execute_result"
    },
    {
     "data": {
      "text/plain": [
       "Progress: 21249 / 60000\t\n"
      ]
     },
     "execution_count": 11,
     "metadata": {},
     "output_type": "execute_result"
    },
    {
     "data": {
      "text/plain": [
       "Progress: 21505 / 60000\t\n"
      ]
     },
     "execution_count": 11,
     "metadata": {},
     "output_type": "execute_result"
    },
    {
     "data": {
      "text/plain": [
       "Progress: 21761 / 60000\t\n"
      ]
     },
     "execution_count": 11,
     "metadata": {},
     "output_type": "execute_result"
    },
    {
     "data": {
      "text/plain": [
       "Progress: 22017 / 60000\t\n"
      ]
     },
     "execution_count": 11,
     "metadata": {},
     "output_type": "execute_result"
    },
    {
     "data": {
      "text/plain": [
       "Progress: 22273 / 60000\t\n"
      ]
     },
     "execution_count": 11,
     "metadata": {},
     "output_type": "execute_result"
    },
    {
     "data": {
      "text/plain": [
       "Progress: 22529 / 60000\t\n"
      ]
     },
     "execution_count": 11,
     "metadata": {},
     "output_type": "execute_result"
    },
    {
     "data": {
      "text/plain": [
       "Progress: 22785 / 60000\t\n"
      ]
     },
     "execution_count": 11,
     "metadata": {},
     "output_type": "execute_result"
    },
    {
     "data": {
      "text/plain": [
       "Progress: 23041 / 60000\t\n"
      ]
     },
     "execution_count": 11,
     "metadata": {},
     "output_type": "execute_result"
    },
    {
     "data": {
      "text/plain": [
       "Progress: 23297 / 60000\t\n"
      ]
     },
     "execution_count": 11,
     "metadata": {},
     "output_type": "execute_result"
    },
    {
     "data": {
      "text/plain": [
       "Progress: 23553 / 60000\t\n"
      ]
     },
     "execution_count": 11,
     "metadata": {},
     "output_type": "execute_result"
    },
    {
     "data": {
      "text/plain": [
       "Progress: 23809 / 60000\t\n"
      ]
     },
     "execution_count": 11,
     "metadata": {},
     "output_type": "execute_result"
    },
    {
     "data": {
      "text/plain": [
       "Progress: 24065 / 60000\t\n"
      ]
     },
     "execution_count": 11,
     "metadata": {},
     "output_type": "execute_result"
    },
    {
     "data": {
      "text/plain": [
       "Progress: 24321 / 60000\t\n"
      ]
     },
     "execution_count": 11,
     "metadata": {},
     "output_type": "execute_result"
    },
    {
     "data": {
      "text/plain": [
       "Progress: 24577 / 60000\t\n"
      ]
     },
     "execution_count": 11,
     "metadata": {},
     "output_type": "execute_result"
    },
    {
     "data": {
      "text/plain": [
       "Progress: 24833 / 60000\t\n"
      ]
     },
     "execution_count": 11,
     "metadata": {},
     "output_type": "execute_result"
    },
    {
     "data": {
      "text/plain": [
       "Progress: 25089 / 60000\t\n"
      ]
     },
     "execution_count": 11,
     "metadata": {},
     "output_type": "execute_result"
    },
    {
     "data": {
      "text/plain": [
       "Progress: 25345 / 60000\t\n"
      ]
     },
     "execution_count": 11,
     "metadata": {},
     "output_type": "execute_result"
    },
    {
     "data": {
      "text/plain": [
       "Progress: 25601 / 60000\t\n"
      ]
     },
     "execution_count": 11,
     "metadata": {},
     "output_type": "execute_result"
    },
    {
     "data": {
      "text/plain": [
       "Progress: 25857 / 60000\t\n"
      ]
     },
     "execution_count": 11,
     "metadata": {},
     "output_type": "execute_result"
    },
    {
     "data": {
      "text/plain": [
       "Progress: 26113 / 60000\t\n"
      ]
     },
     "execution_count": 11,
     "metadata": {},
     "output_type": "execute_result"
    },
    {
     "data": {
      "text/plain": [
       "Progress: 26369 / 60000\t\n"
      ]
     },
     "execution_count": 11,
     "metadata": {},
     "output_type": "execute_result"
    },
    {
     "data": {
      "text/plain": [
       "Progress: 26625 / 60000\t\n"
      ]
     },
     "execution_count": 11,
     "metadata": {},
     "output_type": "execute_result"
    },
    {
     "data": {
      "text/plain": [
       "Progress: 26881 / 60000\t\n"
      ]
     },
     "execution_count": 11,
     "metadata": {},
     "output_type": "execute_result"
    },
    {
     "data": {
      "text/plain": [
       "Progress: 27137 / 60000\t\n"
      ]
     },
     "execution_count": 11,
     "metadata": {},
     "output_type": "execute_result"
    },
    {
     "data": {
      "text/plain": [
       "Progress: 27393 / 60000\t\n"
      ]
     },
     "execution_count": 11,
     "metadata": {},
     "output_type": "execute_result"
    },
    {
     "data": {
      "text/plain": [
       "Progress: 27649 / 60000\t\n"
      ]
     },
     "execution_count": 11,
     "metadata": {},
     "output_type": "execute_result"
    },
    {
     "data": {
      "text/plain": [
       "Progress: 27905 / 60000\t\n"
      ]
     },
     "execution_count": 11,
     "metadata": {},
     "output_type": "execute_result"
    },
    {
     "data": {
      "text/plain": [
       "Progress: 28161 / 60000\t\n"
      ]
     },
     "execution_count": 11,
     "metadata": {},
     "output_type": "execute_result"
    },
    {
     "data": {
      "text/plain": [
       "Progress: 28417 / 60000\t\n"
      ]
     },
     "execution_count": 11,
     "metadata": {},
     "output_type": "execute_result"
    },
    {
     "data": {
      "text/plain": [
       "Progress: 28673 / 60000\t\n"
      ]
     },
     "execution_count": 11,
     "metadata": {},
     "output_type": "execute_result"
    },
    {
     "data": {
      "text/plain": [
       "Progress: 28929 / 60000\t\n"
      ]
     },
     "execution_count": 11,
     "metadata": {},
     "output_type": "execute_result"
    },
    {
     "data": {
      "text/plain": [
       "Progress: 29185 / 60000\t\n"
      ]
     },
     "execution_count": 11,
     "metadata": {},
     "output_type": "execute_result"
    },
    {
     "data": {
      "text/plain": [
       "Progress: 29441 / 60000\t\n"
      ]
     },
     "execution_count": 11,
     "metadata": {},
     "output_type": "execute_result"
    },
    {
     "data": {
      "text/plain": [
       "Progress: 29697 / 60000\t\n"
      ]
     },
     "execution_count": 11,
     "metadata": {},
     "output_type": "execute_result"
    },
    {
     "data": {
      "text/plain": [
       "Progress: 29953 / 60000\t\n"
      ]
     },
     "execution_count": 11,
     "metadata": {},
     "output_type": "execute_result"
    },
    {
     "data": {
      "text/plain": [
       "Progress: 30209 / 60000\t\n"
      ]
     },
     "execution_count": 11,
     "metadata": {},
     "output_type": "execute_result"
    },
    {
     "data": {
      "text/plain": [
       "Progress: 30465 / 60000\t\n"
      ]
     },
     "execution_count": 11,
     "metadata": {},
     "output_type": "execute_result"
    },
    {
     "data": {
      "text/plain": [
       "Progress: 30721 / 60000\t\n"
      ]
     },
     "execution_count": 11,
     "metadata": {},
     "output_type": "execute_result"
    },
    {
     "data": {
      "text/plain": [
       "Progress: 30977 / 60000\t\n"
      ]
     },
     "execution_count": 11,
     "metadata": {},
     "output_type": "execute_result"
    },
    {
     "data": {
      "text/plain": [
       "Progress: 31233 / 60000\t\n"
      ]
     },
     "execution_count": 11,
     "metadata": {},
     "output_type": "execute_result"
    },
    {
     "data": {
      "text/plain": [
       "Progress: 31489 / 60000\t\n"
      ]
     },
     "execution_count": 11,
     "metadata": {},
     "output_type": "execute_result"
    },
    {
     "data": {
      "text/plain": [
       "Progress: 31745 / 60000\t\n"
      ]
     },
     "execution_count": 11,
     "metadata": {},
     "output_type": "execute_result"
    },
    {
     "data": {
      "text/plain": [
       "Progress: 32001 / 60000\t\n"
      ]
     },
     "execution_count": 11,
     "metadata": {},
     "output_type": "execute_result"
    },
    {
     "data": {
      "text/plain": [
       "Progress: 32257 / 60000\t\n"
      ]
     },
     "execution_count": 11,
     "metadata": {},
     "output_type": "execute_result"
    },
    {
     "data": {
      "text/plain": [
       "Progress: 32513 / 60000\t\n"
      ]
     },
     "execution_count": 11,
     "metadata": {},
     "output_type": "execute_result"
    },
    {
     "data": {
      "text/plain": [
       "Progress: 32769 / 60000\t\n"
      ]
     },
     "execution_count": 11,
     "metadata": {},
     "output_type": "execute_result"
    },
    {
     "data": {
      "text/plain": [
       "Progress: 33025 / 60000\t\n"
      ]
     },
     "execution_count": 11,
     "metadata": {},
     "output_type": "execute_result"
    },
    {
     "data": {
      "text/plain": [
       "Progress: 33281 / 60000\t\n"
      ]
     },
     "execution_count": 11,
     "metadata": {},
     "output_type": "execute_result"
    },
    {
     "data": {
      "text/plain": [
       "Progress: 33537 / 60000\t\n"
      ]
     },
     "execution_count": 11,
     "metadata": {},
     "output_type": "execute_result"
    },
    {
     "data": {
      "text/plain": [
       "Progress: 33793 / 60000\t\n"
      ]
     },
     "execution_count": 11,
     "metadata": {},
     "output_type": "execute_result"
    },
    {
     "data": {
      "text/plain": [
       "Progress: 34049 / 60000\t\n"
      ]
     },
     "execution_count": 11,
     "metadata": {},
     "output_type": "execute_result"
    },
    {
     "data": {
      "text/plain": [
       "Progress: 34305 / 60000\t\n"
      ]
     },
     "execution_count": 11,
     "metadata": {},
     "output_type": "execute_result"
    },
    {
     "data": {
      "text/plain": [
       "Progress: 34561 / 60000\t\n"
      ]
     },
     "execution_count": 11,
     "metadata": {},
     "output_type": "execute_result"
    },
    {
     "data": {
      "text/plain": [
       "Progress: 34817 / 60000\t\n"
      ]
     },
     "execution_count": 11,
     "metadata": {},
     "output_type": "execute_result"
    },
    {
     "data": {
      "text/plain": [
       "Progress: 35073 / 60000\t\n"
      ]
     },
     "execution_count": 11,
     "metadata": {},
     "output_type": "execute_result"
    },
    {
     "data": {
      "text/plain": [
       "Progress: 35329 / 60000\t\n"
      ]
     },
     "execution_count": 11,
     "metadata": {},
     "output_type": "execute_result"
    },
    {
     "data": {
      "text/plain": [
       "Progress: 35585 / 60000\t\n"
      ]
     },
     "execution_count": 11,
     "metadata": {},
     "output_type": "execute_result"
    },
    {
     "data": {
      "text/plain": [
       "Progress: 35841 / 60000\t\n"
      ]
     },
     "execution_count": 11,
     "metadata": {},
     "output_type": "execute_result"
    },
    {
     "data": {
      "text/plain": [
       "Progress: 36097 / 60000\t\n"
      ]
     },
     "execution_count": 11,
     "metadata": {},
     "output_type": "execute_result"
    },
    {
     "data": {
      "text/plain": [
       "Progress: 36353 / 60000\t\n"
      ]
     },
     "execution_count": 11,
     "metadata": {},
     "output_type": "execute_result"
    },
    {
     "data": {
      "text/plain": [
       "Progress: 36609 / 60000\t\n"
      ]
     },
     "execution_count": 11,
     "metadata": {},
     "output_type": "execute_result"
    },
    {
     "data": {
      "text/plain": [
       "Progress: 36865 / 60000\t\n"
      ]
     },
     "execution_count": 11,
     "metadata": {},
     "output_type": "execute_result"
    },
    {
     "data": {
      "text/plain": [
       "Progress: 37121 / 60000\t\n"
      ]
     },
     "execution_count": 11,
     "metadata": {},
     "output_type": "execute_result"
    },
    {
     "data": {
      "text/plain": [
       "Progress: 37377 / 60000\t\n"
      ]
     },
     "execution_count": 11,
     "metadata": {},
     "output_type": "execute_result"
    },
    {
     "data": {
      "text/plain": [
       "Progress: 37633 / 60000\t\n"
      ]
     },
     "execution_count": 11,
     "metadata": {},
     "output_type": "execute_result"
    },
    {
     "data": {
      "text/plain": [
       "Progress: 37889 / 60000\t\n"
      ]
     },
     "execution_count": 11,
     "metadata": {},
     "output_type": "execute_result"
    },
    {
     "data": {
      "text/plain": [
       "Progress: 38145 / 60000\t\n"
      ]
     },
     "execution_count": 11,
     "metadata": {},
     "output_type": "execute_result"
    },
    {
     "data": {
      "text/plain": [
       "Progress: 38401 / 60000\t\n"
      ]
     },
     "execution_count": 11,
     "metadata": {},
     "output_type": "execute_result"
    },
    {
     "data": {
      "text/plain": [
       "Progress: 38657 / 60000\t\n"
      ]
     },
     "execution_count": 11,
     "metadata": {},
     "output_type": "execute_result"
    },
    {
     "data": {
      "text/plain": [
       "Progress: 38913 / 60000\t\n"
      ]
     },
     "execution_count": 11,
     "metadata": {},
     "output_type": "execute_result"
    },
    {
     "data": {
      "text/plain": [
       "Progress: 39169 / 60000\t\n"
      ]
     },
     "execution_count": 11,
     "metadata": {},
     "output_type": "execute_result"
    },
    {
     "data": {
      "text/plain": [
       "Progress: 39425 / 60000\t\n"
      ]
     },
     "execution_count": 11,
     "metadata": {},
     "output_type": "execute_result"
    },
    {
     "data": {
      "text/plain": [
       "Progress: 39681 / 60000\t\n"
      ]
     },
     "execution_count": 11,
     "metadata": {},
     "output_type": "execute_result"
    },
    {
     "data": {
      "text/plain": [
       "Progress: 39937 / 60000\t\n"
      ]
     },
     "execution_count": 11,
     "metadata": {},
     "output_type": "execute_result"
    },
    {
     "data": {
      "text/plain": [
       "Progress: 40193 / 60000\t\n"
      ]
     },
     "execution_count": 11,
     "metadata": {},
     "output_type": "execute_result"
    },
    {
     "data": {
      "text/plain": [
       "Progress: 40449 / 60000\t\n"
      ]
     },
     "execution_count": 11,
     "metadata": {},
     "output_type": "execute_result"
    },
    {
     "data": {
      "text/plain": [
       "Progress: 40705 / 60000\t\n"
      ]
     },
     "execution_count": 11,
     "metadata": {},
     "output_type": "execute_result"
    },
    {
     "data": {
      "text/plain": [
       "Progress: 40961 / 60000\t\n"
      ]
     },
     "execution_count": 11,
     "metadata": {},
     "output_type": "execute_result"
    },
    {
     "data": {
      "text/plain": [
       "Progress: 41217 / 60000\t\n"
      ]
     },
     "execution_count": 11,
     "metadata": {},
     "output_type": "execute_result"
    },
    {
     "data": {
      "text/plain": [
       "Progress: 41473 / 60000\t\n"
      ]
     },
     "execution_count": 11,
     "metadata": {},
     "output_type": "execute_result"
    },
    {
     "data": {
      "text/plain": [
       "Progress: 41729 / 60000\t\n"
      ]
     },
     "execution_count": 11,
     "metadata": {},
     "output_type": "execute_result"
    },
    {
     "data": {
      "text/plain": [
       "Progress: 41985 / 60000\t\n"
      ]
     },
     "execution_count": 11,
     "metadata": {},
     "output_type": "execute_result"
    },
    {
     "data": {
      "text/plain": [
       "Progress: 42241 / 60000\t\n"
      ]
     },
     "execution_count": 11,
     "metadata": {},
     "output_type": "execute_result"
    },
    {
     "data": {
      "text/plain": [
       "Progress: 42497 / 60000\t\n"
      ]
     },
     "execution_count": 11,
     "metadata": {},
     "output_type": "execute_result"
    },
    {
     "data": {
      "text/plain": [
       "Progress: 42753 / 60000\t\n"
      ]
     },
     "execution_count": 11,
     "metadata": {},
     "output_type": "execute_result"
    },
    {
     "data": {
      "text/plain": [
       "Progress: 43009 / 60000\t\n"
      ]
     },
     "execution_count": 11,
     "metadata": {},
     "output_type": "execute_result"
    },
    {
     "data": {
      "text/plain": [
       "Progress: 43265 / 60000\t\n"
      ]
     },
     "execution_count": 11,
     "metadata": {},
     "output_type": "execute_result"
    },
    {
     "data": {
      "text/plain": [
       "Progress: 43521 / 60000\t\n"
      ]
     },
     "execution_count": 11,
     "metadata": {},
     "output_type": "execute_result"
    },
    {
     "data": {
      "text/plain": [
       "Progress: 43777 / 60000\t\n"
      ]
     },
     "execution_count": 11,
     "metadata": {},
     "output_type": "execute_result"
    },
    {
     "data": {
      "text/plain": [
       "Progress: 44033 / 60000\t\n"
      ]
     },
     "execution_count": 11,
     "metadata": {},
     "output_type": "execute_result"
    },
    {
     "data": {
      "text/plain": [
       "Progress: 44289 / 60000\t\n"
      ]
     },
     "execution_count": 11,
     "metadata": {},
     "output_type": "execute_result"
    },
    {
     "data": {
      "text/plain": [
       "Progress: 44545 / 60000\t\n"
      ]
     },
     "execution_count": 11,
     "metadata": {},
     "output_type": "execute_result"
    },
    {
     "data": {
      "text/plain": [
       "Progress: 44801 / 60000\t\n"
      ]
     },
     "execution_count": 11,
     "metadata": {},
     "output_type": "execute_result"
    },
    {
     "data": {
      "text/plain": [
       "Progress: 45057 / 60000\t\n"
      ]
     },
     "execution_count": 11,
     "metadata": {},
     "output_type": "execute_result"
    },
    {
     "data": {
      "text/plain": [
       "Progress: 45313 / 60000\t\n"
      ]
     },
     "execution_count": 11,
     "metadata": {},
     "output_type": "execute_result"
    },
    {
     "data": {
      "text/plain": [
       "Progress: 45569 / 60000\t\n"
      ]
     },
     "execution_count": 11,
     "metadata": {},
     "output_type": "execute_result"
    },
    {
     "data": {
      "text/plain": [
       "Progress: 45825 / 60000\t\n"
      ]
     },
     "execution_count": 11,
     "metadata": {},
     "output_type": "execute_result"
    },
    {
     "data": {
      "text/plain": [
       "Progress: 46081 / 60000\t\n"
      ]
     },
     "execution_count": 11,
     "metadata": {},
     "output_type": "execute_result"
    },
    {
     "data": {
      "text/plain": [
       "Progress: 46337 / 60000\t\n"
      ]
     },
     "execution_count": 11,
     "metadata": {},
     "output_type": "execute_result"
    },
    {
     "data": {
      "text/plain": [
       "Progress: 46593 / 60000\t\n"
      ]
     },
     "execution_count": 11,
     "metadata": {},
     "output_type": "execute_result"
    },
    {
     "data": {
      "text/plain": [
       "Progress: 46849 / 60000\t\n"
      ]
     },
     "execution_count": 11,
     "metadata": {},
     "output_type": "execute_result"
    },
    {
     "data": {
      "text/plain": [
       "Progress: 47105 / 60000\t\n"
      ]
     },
     "execution_count": 11,
     "metadata": {},
     "output_type": "execute_result"
    },
    {
     "data": {
      "text/plain": [
       "Progress: 47361 / 60000\t\n"
      ]
     },
     "execution_count": 11,
     "metadata": {},
     "output_type": "execute_result"
    },
    {
     "data": {
      "text/plain": [
       "Progress: 47617 / 60000\t\n"
      ]
     },
     "execution_count": 11,
     "metadata": {},
     "output_type": "execute_result"
    },
    {
     "data": {
      "text/plain": [
       "Progress: 47873 / 60000\t\n"
      ]
     },
     "execution_count": 11,
     "metadata": {},
     "output_type": "execute_result"
    },
    {
     "data": {
      "text/plain": [
       "Progress: 48129 / 60000\t\n"
      ]
     },
     "execution_count": 11,
     "metadata": {},
     "output_type": "execute_result"
    },
    {
     "data": {
      "text/plain": [
       "Progress: 48385 / 60000\t\n"
      ]
     },
     "execution_count": 11,
     "metadata": {},
     "output_type": "execute_result"
    },
    {
     "data": {
      "text/plain": [
       "Progress: 48641 / 60000\t\n"
      ]
     },
     "execution_count": 11,
     "metadata": {},
     "output_type": "execute_result"
    },
    {
     "data": {
      "text/plain": [
       "Progress: 48897 / 60000\t\n"
      ]
     },
     "execution_count": 11,
     "metadata": {},
     "output_type": "execute_result"
    },
    {
     "data": {
      "text/plain": [
       "Progress: 49153 / 60000\t\n"
      ]
     },
     "execution_count": 11,
     "metadata": {},
     "output_type": "execute_result"
    },
    {
     "data": {
      "text/plain": [
       "Progress: 49409 / 60000\t\n"
      ]
     },
     "execution_count": 11,
     "metadata": {},
     "output_type": "execute_result"
    },
    {
     "data": {
      "text/plain": [
       "Progress: 49665 / 60000\t\n"
      ]
     },
     "execution_count": 11,
     "metadata": {},
     "output_type": "execute_result"
    },
    {
     "data": {
      "text/plain": [
       "Progress: 49921 / 60000\t\n"
      ]
     },
     "execution_count": 11,
     "metadata": {},
     "output_type": "execute_result"
    },
    {
     "data": {
      "text/plain": [
       "Progress: 50177 / 60000\t\n"
      ]
     },
     "execution_count": 11,
     "metadata": {},
     "output_type": "execute_result"
    },
    {
     "data": {
      "text/plain": [
       "Progress: 50433 / 60000\t\n"
      ]
     },
     "execution_count": 11,
     "metadata": {},
     "output_type": "execute_result"
    },
    {
     "data": {
      "text/plain": [
       "Progress: 50689 / 60000\t\n"
      ]
     },
     "execution_count": 11,
     "metadata": {},
     "output_type": "execute_result"
    },
    {
     "data": {
      "text/plain": [
       "Progress: 50945 / 60000\t\n"
      ]
     },
     "execution_count": 11,
     "metadata": {},
     "output_type": "execute_result"
    },
    {
     "data": {
      "text/plain": [
       "Progress: 51201 / 60000\t\n"
      ]
     },
     "execution_count": 11,
     "metadata": {},
     "output_type": "execute_result"
    },
    {
     "data": {
      "text/plain": [
       "Progress: 51457 / 60000\t\n"
      ]
     },
     "execution_count": 11,
     "metadata": {},
     "output_type": "execute_result"
    },
    {
     "data": {
      "text/plain": [
       "Progress: 51713 / 60000\t\n"
      ]
     },
     "execution_count": 11,
     "metadata": {},
     "output_type": "execute_result"
    },
    {
     "data": {
      "text/plain": [
       "Progress: 51969 / 60000\t\n"
      ]
     },
     "execution_count": 11,
     "metadata": {},
     "output_type": "execute_result"
    },
    {
     "data": {
      "text/plain": [
       "Progress: 52225 / 60000\t\n"
      ]
     },
     "execution_count": 11,
     "metadata": {},
     "output_type": "execute_result"
    },
    {
     "data": {
      "text/plain": [
       "Progress: 52481 / 60000\t\n"
      ]
     },
     "execution_count": 11,
     "metadata": {},
     "output_type": "execute_result"
    },
    {
     "data": {
      "text/plain": [
       "Progress: 52737 / 60000\t\n"
      ]
     },
     "execution_count": 11,
     "metadata": {},
     "output_type": "execute_result"
    },
    {
     "data": {
      "text/plain": [
       "Progress: 52993 / 60000\t\n"
      ]
     },
     "execution_count": 11,
     "metadata": {},
     "output_type": "execute_result"
    },
    {
     "data": {
      "text/plain": [
       "Progress: 53249 / 60000\t\n"
      ]
     },
     "execution_count": 11,
     "metadata": {},
     "output_type": "execute_result"
    },
    {
     "data": {
      "text/plain": [
       "Progress: 53505 / 60000\t\n"
      ]
     },
     "execution_count": 11,
     "metadata": {},
     "output_type": "execute_result"
    },
    {
     "data": {
      "text/plain": [
       "Progress: 53761 / 60000\t\n"
      ]
     },
     "execution_count": 11,
     "metadata": {},
     "output_type": "execute_result"
    },
    {
     "data": {
      "text/plain": [
       "Progress: 54017 / 60000\t\n"
      ]
     },
     "execution_count": 11,
     "metadata": {},
     "output_type": "execute_result"
    },
    {
     "data": {
      "text/plain": [
       "Progress: 54273 / 60000\t\n"
      ]
     },
     "execution_count": 11,
     "metadata": {},
     "output_type": "execute_result"
    },
    {
     "data": {
      "text/plain": [
       "Progress: 54529 / 60000\t\n"
      ]
     },
     "execution_count": 11,
     "metadata": {},
     "output_type": "execute_result"
    },
    {
     "data": {
      "text/plain": [
       "Progress: 54785 / 60000\t\n"
      ]
     },
     "execution_count": 11,
     "metadata": {},
     "output_type": "execute_result"
    },
    {
     "data": {
      "text/plain": [
       "Progress: 55041 / 60000\t\n"
      ]
     },
     "execution_count": 11,
     "metadata": {},
     "output_type": "execute_result"
    },
    {
     "data": {
      "text/plain": [
       "Progress: 55297 / 60000\t\n"
      ]
     },
     "execution_count": 11,
     "metadata": {},
     "output_type": "execute_result"
    },
    {
     "data": {
      "text/plain": [
       "Progress: 55553 / 60000\t\n"
      ]
     },
     "execution_count": 11,
     "metadata": {},
     "output_type": "execute_result"
    },
    {
     "data": {
      "text/plain": [
       "Progress: 55809 / 60000\t"
      ]
     },
     "execution_count": 11,
     "metadata": {},
     "output_type": "execute_result"
    },
    {
     "data": {
      "text/plain": [
       "\n"
      ]
     },
     "execution_count": 11,
     "metadata": {},
     "output_type": "execute_result"
    },
    {
     "data": {
      "text/plain": [
       "Progress: 56065 / 60000\t\n"
      ]
     },
     "execution_count": 11,
     "metadata": {},
     "output_type": "execute_result"
    },
    {
     "data": {
      "text/plain": [
       "Progress: 56321 / 60000\t\n"
      ]
     },
     "execution_count": 11,
     "metadata": {},
     "output_type": "execute_result"
    },
    {
     "data": {
      "text/plain": [
       "Progress: 56577 / 60000\t\n"
      ]
     },
     "execution_count": 11,
     "metadata": {},
     "output_type": "execute_result"
    },
    {
     "data": {
      "text/plain": [
       "Progress: 56833 / 60000\t\n"
      ]
     },
     "execution_count": 11,
     "metadata": {},
     "output_type": "execute_result"
    },
    {
     "data": {
      "text/plain": [
       "Progress: 57089 / 60000\t\n"
      ]
     },
     "execution_count": 11,
     "metadata": {},
     "output_type": "execute_result"
    },
    {
     "data": {
      "text/plain": [
       "Progress: 57345 / 60000\t\n"
      ]
     },
     "execution_count": 11,
     "metadata": {},
     "output_type": "execute_result"
    },
    {
     "data": {
      "text/plain": [
       "Progress: 57601 / 60000\t\n"
      ]
     },
     "execution_count": 11,
     "metadata": {},
     "output_type": "execute_result"
    },
    {
     "data": {
      "text/plain": [
       "Progress: 57857 / 60000\t\n"
      ]
     },
     "execution_count": 11,
     "metadata": {},
     "output_type": "execute_result"
    },
    {
     "data": {
      "text/plain": [
       "Progress: 58113 / 60000\t\n"
      ]
     },
     "execution_count": 11,
     "metadata": {},
     "output_type": "execute_result"
    },
    {
     "data": {
      "text/plain": [
       "Progress: 58369 / 60000\t\n"
      ]
     },
     "execution_count": 11,
     "metadata": {},
     "output_type": "execute_result"
    },
    {
     "data": {
      "text/plain": [
       "Progress: 58625 / 60000\t\n"
      ]
     },
     "execution_count": 11,
     "metadata": {},
     "output_type": "execute_result"
    },
    {
     "data": {
      "text/plain": [
       "Progress: 58881 / 60000\t\n"
      ]
     },
     "execution_count": 11,
     "metadata": {},
     "output_type": "execute_result"
    },
    {
     "data": {
      "text/plain": [
       "Progress: 59137 / 60000\t\n"
      ]
     },
     "execution_count": 11,
     "metadata": {},
     "output_type": "execute_result"
    },
    {
     "data": {
      "text/plain": [
       "Progress: 59393 / 60000\t\n"
      ]
     },
     "execution_count": 11,
     "metadata": {},
     "output_type": "execute_result"
    },
    {
     "data": {
      "text/plain": [
       "Progress: 59649 / 60000\t\n"
      ]
     },
     "execution_count": 11,
     "metadata": {},
     "output_type": "execute_result"
    },
    {
     "data": {
      "text/plain": [
       "Progress: 59905 / 60000\t\n"
      ]
     },
     "execution_count": 11,
     "metadata": {},
     "output_type": "execute_result"
    },
    {
     "data": {
      "text/plain": [
       "\n",
       "==> time to learn 1 sample = 9.2680948177973ms\t\n",
       "ConfusionMatrix:\n",
       "[[    5488       0      54      38      19     144      64      18      85      13]   92.656% \t[class: 1]\n",
       " [       1    6236      84      62      16      37       9      29     249      19]   92.495% \t[class: 2]\n",
       " [      60      82    4944     187      93      40     138     102     261      51]   82.981% \t[class: 3]\n",
       " [      44      41     196    5020      14     350      35      70     270      91]   81.879% \t[class: 4]\n",
       " [      25      27      53      31    4981      25      87      38     122     453]   85.262% \t[class: 5]\n",
       " [     132      42      73     337     100    3977     124      37     498     101]   73.363% \t[class: 6]\n",
       " [      66      27     138      13      89     120    5356       7      87      15]   90.504% \t[class: 7]\n",
       " [      37      45     112      69      80      15       4    5390      50     463]   86.034% \t[class: 8]\n",
       " [      67     193     215     300      52     376      76      46    4319     207]   73.816% \t[class: 9]\n",
       " [      45      31      30     102     418      85      17     436     206    4579]]  76.971% \t[class: 0]\n",
       " + average row correct: 83.595957756042% \n",
       " + average rowUcol correct (VOC measure): 72.447229027748% \n",
       " + global correct: 83.816666666667%\n",
       "{\n",
       "  valids : FloatTensor - size: 10\n",
       "  mat : LongTensor - size: 10x10\n",
       "  averageUnionValid : 0.72447229027748\n",
       "  _targ_idx : LongTensor - empty\n",
       " "
      ]
     },
     "execution_count": 11,
     "metadata": {},
     "output_type": "execute_result"
    },
    {
     "data": {
      "text/plain": [
       " averageValid : 0.83595957756042\n",
       "  classes : \n",
       "    {\n",
       "      1 : 1\n",
       "      2 : 2\n",
       "      3 : 3\n",
       "      4 : 4\n",
       "      5 : 5\n",
       "      6 : 6\n",
       "      7 : 7\n",
       "      8 : 8\n",
       "      9 : 9\n",
       "      10 : 0\n",
       "    }\n",
       "  _prediction : FloatTensor - size: 10\n",
       "  _pred_idx : LongTensor - size: 1\n",
       "  nclasses : 10\n",
       "  _max : FloatTensor - size: 1\n",
       "  _target : FloatTensor - empty\n",
       "  unionvalids : FloatTensor - size: 10\n",
       "  totalValid : 0.83816666666667\n",
       "}\n"
      ]
     },
     "execution_count": 11,
     "metadata": {},
     "output_type": "execute_result"
    },
    {
     "data": {
      "text/plain": [
       "==> saving model to /home/ubuntu/gitlab.altoros/776_DL_Libs_Benchmark.git/src/Step02/SubStep-02-Torch/results/model.net\t\n"
      ]
     },
     "execution_count": 11,
     "metadata": {},
     "output_type": "execute_result"
    },
    {
     "data": {
      "text/plain": [
       "==> testing on test set:\t\n"
      ]
     },
     "execution_count": 11,
     "metadata": {},
     "output_type": "execute_result"
    },
    {
     "data": {
      "text/plain": [
       "Progress: 7204 / 10000\t\n"
      ]
     },
     "execution_count": 11,
     "metadata": {},
     "output_type": "execute_result"
    },
    {
     "data": {
      "text/plain": [
       "\n",
       "==> time to test 1 sample = 0.12617728710175ms\t\n"
      ]
     },
     "execution_count": 11,
     "metadata": {},
     "output_type": "execute_result"
    },
    {
     "data": {
      "text/plain": [
       "ConfusionMatrix:\n",
       "[[     968       0       0       0       1       1       1       1       8       0]   98.776% \t[class: 1]\n",
       " [       0    1036       4       1       0      10       3       3      78       0]   91.278% \t[class: 2]\n",
       " [      18      11     891       0      19       1       8       8      75       1]   86.337% \t[class: 3]\n",
       " [      13       3      79     610      10     114       3      22     156       0]   60.396% \t[class: 4]\n",
       " [       5       0       3       0     959       0       6       1       8       0]   97.658% \t[class: 5]\n",
       " [      18       2       2       5      22     751      10       5      77       0]   84.193% \t[class: 6]\n",
       " [      27       2       8       0      29      24     849       2      17       0]   88.622% \t[class: 7]\n",
       " [       4       5      23       1      33       1       0     930      26       5]   90.467% \t[class: 8]\n",
       " [       8       3       3       1      42      20       4       4     889       0]   91.273% \t[class: 9]\n",
       " [      19       4       2       2     631       9       0      63      73     206]]  20.416% \t[class: 0]\n",
       " + average row correct: 80.941537022591% \n",
       " + average rowUcol correct (VOC measure): 68.58918607235% \n",
       " + global correct: 80.89%\n",
       "{\n",
       "  valids : FloatTensor - size: 10\n",
       "  mat : LongTensor - size: 10x10\n",
       "  averageUnionValid : 0.6858918607235\n",
       "  _targ_idx : LongTensor - empty\n",
       "  averageValid : 0.80941537022591\n",
       "  classes : \n",
       "    {\n",
       "      1 : 1\n",
       "      2 : 2\n",
       "      3 : 3\n",
       "      4 : 4\n",
       "      5 : 5\n",
       "      6 : 6\n",
       "      7 : 7\n",
       "      8 : 8\n",
       "      9 : 9\n",
       "      10 : 0\n",
       "    }\n",
       "  _prediction : FloatTensor - size: 10\n",
       "  _pred_idx : LongTensor - size: 1\n",
       "  nclasses : 10\n",
       "  _max : FloatTensor - size: 1\n",
       "  _target : FloatTensor - empty\n",
       "  unionvalids : FloatTensor - size: 10\n",
       "  totalValid : 0.8089\n",
       "}\n",
       "==> trained model weights:\t\n"
      ]
     },
     "execution_count": 11,
     "metadata": {},
     "output_type": "execute_result"
    },
    {
     "data": {
      "image/png": "[encoded data removed]",
      "text/plain": [
       "Console does not support images"
      ]
     },
     "metadata": {
      "image/png": {
       "height": 68,
       "width": 204
      }
     },
     "output_type": "display_data"
    }
   ],
   "source": [
    "numEpoch=1\n",
    "for i=1,numEpoch do\n",
    "    train()\n",
    "    test()\n",
    "end\n",
    "print '==> trained model weights:'\n",
    "itorch.image(model:get(2).weight:view(10,1,32,32))"
   ]
  },
  {
   "cell_type": "code",
   "execution_count": null,
   "metadata": {
    "collapsed": true
   },
   "outputs": [],
   "source": []
  }
 ],
 "metadata": {
  "kernelspec": {
   "display_name": "iTorch",
   "language": "lua",
   "name": "itorch"
  },
  "language_info": {
   "name": "lua",
   "version": "5.1"
  }
 },
 "nbformat": 4,
 "nbformat_minor": 0
}
