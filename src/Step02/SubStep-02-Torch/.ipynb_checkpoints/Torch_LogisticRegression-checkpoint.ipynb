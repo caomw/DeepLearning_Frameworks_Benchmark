{
 "cells": [
  {
   "cell_type": "code",
   "execution_count": 1,
   "metadata": {
    "collapsed": false
   },
   "outputs": [
    {
     "data": {
      "text/plain": [
       "{\n",
       "  data : ByteTensor - size: 60000x1x32x32\n",
       "  size : function: 0x415b7800\n",
       "  labels : ByteTensor - size: 60000\n",
       "}\n",
       "{\n",
       "  data : ByteTensor - size: 10000x1x32x32\n",
       "  size : function: 0x40535d78\n",
       "  labels : ByteTensor - size: 10000\n",
       "}\n"
      ]
     },
     "execution_count": 1,
     "metadata": {},
     "output_type": "execute_result"
    }
   ],
   "source": [
    "require 'nn'\n",
    "require 'image'\n",
    "require 'torch'\n",
    "require 'xlua'\n",
    "require 'optim'\n",
    "--\n",
    "trainData = torch.load('mnist.t7/train_32x32.t7', 'ascii')\n",
    "testData  = torch.load('mnist.t7/test_32x32.t7', 'ascii')\n",
    "trainData.size=function() return (#trainData.labels)[1] end\n",
    "testData.size =function() return (#testData.labels)[1] end\n",
    "print(trainData)\n",
    "print(testData)"
   ]
  },
  {
   "cell_type": "code",
   "execution_count": 2,
   "metadata": {
    "collapsed": false,
    "scrolled": true
   },
   "outputs": [
    {
     "data": {
      "text/plain": [
       "==> here is the weights:\t\n"
      ]
     },
     "execution_count": 2,
     "metadata": {},
     "output_type": "execute_result"
    },
    {
     "data": {
      "image/png": "[encoded data removed]",
      "text/plain": [
       "Console does not support images"
      ]
     },
     "metadata": {
      "image/png": {
       "height": 68,
       "width": 204
      }
     },
     "output_type": "display_data"
    },
    {
     "data": {
      "text/plain": [
       "==> here is the model:\t\n",
       "nn.Sequential {\n",
       "  [input -> (1) -> (2) -> (3) -> output]\n",
       "  (1): nn.Reshape(1024)\n",
       "  (2): nn.Linear(1024 -> 10)\n",
       "  (3): nn.LogSoftMax\n",
       "}\n",
       "{\n",
       "  gradInput : DoubleTensor - empty\n",
       "  modules : \n",
       "    {\n",
       "      1 : \n",
       "        nn.Reshape(1024)\n",
       "        {\n",
       "          nelement : 1024\n",
       "          _input : DoubleTensor - empty\n",
       "          output : DoubleTensor - empty\n",
       "          gradInput : DoubleTensor - empty\n",
       "          size : LongStorage - size: 1\n",
       "          _gradOutput : DoubleTensor - empty\n",
       "          batchsize : LongStorage - size: 2\n",
       "        }\n",
       "      2 : \n",
       "        nn.Linear(1024 -> 10)\n",
       "        {\n",
       "          gradBias : DoubleTensor - size: 10\n",
       "          weight : DoubleTensor - size: 10x1024\n",
       "          gradWeight : DoubleTensor - size: 10x1024\n",
       "          gradInput : DoubleTensor - empty\n",
       "          bias : DoubleTensor - size: 10\n",
       "          output : DoubleTensor - empty\n",
       "        }\n",
       "      3 : \n",
       "        nn.LogSoftMax\n",
       "        {\n",
       "          gradInput : DoubleTensor - empty\n",
       "          output : DoubleTensor - empty\n",
       "        }\n",
       "    }\n",
       "  output : DoubleTensor - empty\n",
       "}\n",
       "==> here is the criterion:\t\n",
       "nn.ClassNLLCriterion\n",
       "{\n",
       "  sizeAverage : true\n",
       "  output : 0\n",
       "  gradInput : DoubleTensor - empty\n",
       "  output_tensor : DoubleTensor - size: 1\n",
       "  target : LongTensor - size: 1\n",
       "  total_weight_tensor : DoubleTensor - size: 1\n",
       "}\n"
      ]
     },
     "execution_count": 2,
     "metadata": {},
     "output_type": "execute_result"
    }
   ],
   "source": [
    "nfeats=1\n",
    "nrow=32\n",
    "ncol=32\n",
    "ninputs=nfeats*nrow*ncol\n",
    "noutputs = 10\n",
    "--\n",
    "model=nn.Sequential()\n",
    "model:add(nn.Reshape(ninputs))\n",
    "model:add(nn.Linear(ninputs, noutputs))\n",
    "model:add(nn.LogSoftMax())\n",
    "--\n",
    "print '==> here is the weights:'\n",
    "itorch.image(model:get(2).weight:view(10,1,32,32))\n",
    "--\n",
    "print '==> here is the model:'\n",
    "print(model)\n",
    "--\n",
    "criterion = nn.ClassNLLCriterion()\n",
    "print '==> here is the criterion:'\n",
    "print(criterion)"
   ]
  },
  {
   "cell_type": "code",
   "execution_count": 38,
   "metadata": {
    "collapsed": false,
    "scrolled": true
   },
   "outputs": [
    {
     "data": {
      "text/plain": [
       "trsize=60000\t\n",
       "tesize=10000\t\n"
      ]
     },
     "execution_count": 38,
     "metadata": {},
     "output_type": "execute_result"
    },
    {
     "data": {
      "text/plain": [
       "==> defining train procedure\t\n",
       "==> defining test procedure\t\n"
      ]
     },
     "execution_count": 38,
     "metadata": {},
     "output_type": "execute_result"
    }
   ],
   "source": [
    "trsize=trainData:size()\n",
    "tesize=testData:size()\n",
    "print('trsize=' .. trsize)\n",
    "print('tesize=' .. tesize)\n",
    "--\n",
    "classes = {'1','2','3','4','5','6','7','8','9','0'}\n",
    "confusion = optim.ConfusionMatrix(classes)\n",
    "trainLogger = optim.Logger(paths.concat('results', 'train.log'))\n",
    "testLogger = optim.Logger(paths.concat('results', 'test.log'))\n",
    "--\n",
    "opt={}\n",
    "opt.save='results'\n",
    "opt.type='double'\n",
    "opt.batchSize=64\n",
    "if model then\n",
    "    parameters,gradParameters = model:getParameters()\n",
    "end\n",
    "optimState = {\n",
    "    learningRate = 0.01,\n",
    "    weightDecay  = 0,\n",
    "    momentum     = 0,\n",
    "    learningRateDecay = 1e-7\n",
    "}\n",
    "optimMethod = optim.sgd\n",
    "--\n",
    "print '==> defining train procedure'\n",
    "function train()\n",
    "    epoch = epoch or 1\n",
    "    local time = sys.clock()\n",
    "    model:training()\n",
    "    -- shuffle at each epoch\n",
    "    shuffle = torch.randperm(trsize)\n",
    "    -- do one epoch\n",
    "    print('==> doing epoch on training data:')\n",
    "    print(\"==> online epoch # \" .. epoch .. ' [batchSize = ' .. opt.batchSize .. ']')\n",
    "    for t = 1,trainData:size(),opt.batchSize do\n",
    "        xlua.progress(t, trainData:size())\n",
    "        -- create mini batch\n",
    "        local inputs = {}\n",
    "        local targets = {}\n",
    "        for i = t,math.min(t+opt.batchSize-1,trainData:size()) do\n",
    "            -- load new sample\n",
    "            local input = trainData.data[shuffle[i]]\n",
    "            local target = trainData.labels[shuffle[i]]\n",
    "            if opt.type == 'double' then\n",
    "                input = input:double()\n",
    "            elseif opt.type == 'cuda' then\n",
    "                input = input:cuda()\n",
    "            end\n",
    "            table.insert(inputs, input)\n",
    "            table.insert(targets, target)\n",
    "        end\n",
    "        --\n",
    "        local feval = function(x)\n",
    "            -- get new parameters\n",
    "            if x ~= parameters then\n",
    "                parameters:copy(x)\n",
    "            end\n",
    "            -- reset gradients\n",
    "            gradParameters:zero()\n",
    "            -- f is the average of all criterions\n",
    "            local f = 0\n",
    "            -- evaluate function for complete mini batch\n",
    "            for i = 1,#inputs do\n",
    "                -- estimate f\n",
    "                local output = model:forward(inputs[i])\n",
    "                local err = criterion:forward(output, targets[i])\n",
    "                f = f + err\n",
    "                -- estimate df/dW\n",
    "                local df_do = criterion:backward(output, targets[i])\n",
    "                model:backward(inputs[i], df_do)\n",
    "                -- update confusion\n",
    "                confusion:add(torch.reshape(output,noutputs), targets[i])\n",
    "            end\n",
    "            \n",
    "            -- normalize gradients and f(X)\n",
    "            gradParameters:div(#inputs)\n",
    "            f = f/#inputs\n",
    "            -- return f and df/dX\n",
    "            return f,gradParameters\n",
    "        end\n",
    "        -- optimize on current mini-batch\n",
    "        optimMethod(feval, parameters, optimState)\n",
    "    end\n",
    "    -- time taken\n",
    "    time = sys.clock() - time\n",
    "    time = time / trainData:size()\n",
    "    print(\"\\n==> time to learn 1 sample = \" .. (time*1000) .. 'ms')\n",
    "    -- print confusion matrix\n",
    "    print(confusion)\n",
    "    -- update logger/plot\n",
    "    trainLogger:add{['% mean class accuracy (train set)'] = confusion.totalValid * 100}\n",
    "    if opt.plot then\n",
    "        trainLogger:style{['% mean class accuracy (train set)'] = '-'}\n",
    "        trainLogger:plot()\n",
    "    end\n",
    "    -- save/log current net\n",
    "    local filename = paths.concat(opt.save, 'model.net')\n",
    "    os.execute('mkdir -p ' .. sys.dirname(filename))\n",
    "    print('==> saving model to '..filename)\n",
    "    torch.save(filename, model)\n",
    "    -- next epoch\n",
    "    confusion:zero()\n",
    "    epoch = epoch + 1\n",
    "end\n",
    "--\n",
    "\n",
    "print '==> defining test procedure'\n",
    "-- test function\n",
    "function test()\n",
    "   -- local vars\n",
    "   local time = sys.clock()\n",
    "\n",
    "   -- averaged param use?\n",
    "   if average then\n",
    "      cachedparams = parameters:clone()\n",
    "      parameters:copy(average)\n",
    "   end\n",
    "\n",
    "   -- set model to evaluate mode (for modules that differ in training and testing, like Dropout)\n",
    "   model:evaluate()\n",
    "\n",
    "   -- test over test data\n",
    "   print('==> testing on test set:')\n",
    "   for t = 1,testData:size() do\n",
    "      -- disp progress\n",
    "      xlua.progress(t, testData:size())\n",
    "\n",
    "      -- get new sample\n",
    "      local input = testData.data[t]\n",
    "      if opt.type == 'double' then input = input:double()\n",
    "      elseif opt.type == 'cuda' then input = input:cuda() end\n",
    "      local target = testData.labels[t]\n",
    "\n",
    "      -- test sample\n",
    "      local pred = model:forward(input)\n",
    "      confusion:add(torch.reshape(pred,noutputs), target)\n",
    "   end\n",
    "\n",
    "   -- timing\n",
    "   time = sys.clock() - time\n",
    "   time = time / testData:size()\n",
    "   print(\"\\n==> time to test 1 sample = \" .. (time*1000) .. 'ms')\n",
    "\n",
    "   -- print confusion matrix\n",
    "   print(confusion)\n",
    "\n",
    "   -- update log/plot\n",
    "   testLogger:add{['% mean class accuracy (test set)'] = confusion.totalValid * 100}\n",
    "   if opt.plot then\n",
    "      testLogger:style{['% mean class accuracy (test set)'] = '-'}\n",
    "      testLogger:plot()\n",
    "   end\n",
    "\n",
    "   -- averaged param use?\n",
    "   if average then\n",
    "      -- restore parameters\n",
    "      parameters:copy(cachedparams)\n",
    "   end\n",
    "   \n",
    "   -- next iteration:\n",
    "   confusion:zero()\n",
    "end"
   ]
  },
  {
   "cell_type": "code",
   "execution_count": 43,
   "metadata": {
    "collapsed": false
   },
   "outputs": [
    {
     "data": {
      "text/plain": [
       "==> doing epoch on training data:\t\n",
       "==> online epoch # 12 [batchSize = 64]\t\n"
      ]
     },
     "execution_count": 43,
     "metadata": {},
     "output_type": "execute_result"
    },
    {
     "data": {
      "text/plain": [
       "Progress: 2241 / 60000\t\n"
      ]
     },
     "execution_count": 43,
     "metadata": {},
     "output_type": "execute_result"
    },
    {
     "data": {
      "text/plain": [
       "Progress: 14401 / 60000\t\n"
      ]
     },
     "execution_count": 43,
     "metadata": {},
     "output_type": "execute_result"
    },
    {
     "data": {
      "text/plain": [
       "Progress: 25729 / 60000\t\n"
      ]
     },
     "execution_count": 43,
     "metadata": {},
     "output_type": "execute_result"
    },
    {
     "data": {
      "text/plain": [
       "Progress: 38209 / 60000\t\n"
      ]
     },
     "execution_count": 43,
     "metadata": {},
     "output_type": "execute_result"
    },
    {
     "data": {
      "text/plain": [
       "Progress: 50881 / 60000\t\n"
      ]
     },
     "execution_count": 43,
     "metadata": {},
     "output_type": "execute_result"
    },
    {
     "data": {
      "text/plain": [
       "\n",
       "==> time to learn 1 sample = 0.16020605166753ms\t\n",
       "ConfusionMatrix:\n",
       "[[    5657       1      33      22      14      66      43      17      57      13]   95.509% \t[class: 1]\n",
       " [       1    6388      64      41       6      26       5      26     171      14]   94.749% \t[class: 2]\n",
       " [      39      70    5212     160      65      31      79      65     210      27]   87.479% \t[class: 3]\n",
       " [      27      25     173    5263      11     261      17      52     221      81]   85.842% \t[class: 4]\n",
       " [      20      21      37       9    5254      11      55      34      82     319]   89.935% \t[class: 5]\n",
       " [      86      25      54     251      56    4369     107      14     399      60]   80.594% \t[class: 6]\n",
       " [      39      15      85       4      50      97    5552       4      66       6]   93.815% \t[class: 7]\n",
       " [      14      15      73      50      54      10       2    5671      36     340]   90.519% \t[class: 8]\n",
       " [      44     132     164     281      44     318      55      25    4661     127]   79.662% \t[class: 9]\n",
       " [      28      29      19      76     280      55       1     310     144    5007]]  84.165% \t[class: 0]\n",
       " + average row correct: 88.226999640465% \n",
       " + average rowUcol correct (VOC measure): 79.382923841476% \n",
       " + global correct: 88.39%\n",
       "{\n",
       "  valids : FloatTensor - size: 10\n",
       "  mat : LongTensor - size: 10x10\n",
       "  averageUnionValid : 0.79382923841476\n",
       "  _targ_idx : LongTensor - empty\n",
       "  averageValid : 0.88226999640465\n",
       "  classes : \n",
       "    {\n",
       "      1 : 1\n",
       "      2 : 2\n",
       "      3 : 3\n",
       "      4 : 4\n",
       "      5 : 5\n",
       "      6 : 6\n",
       "      7 : 7\n",
       "      8 : 8\n",
       "     "
      ]
     },
     "execution_count": 43,
     "metadata": {},
     "output_type": "execute_result"
    },
    {
     "data": {
      "text/plain": [
       " 9 : 9\n",
       "      10 : 0\n",
       "    }\n",
       "  _prediction : FloatTensor - size: 10\n",
       "  _pred_idx : LongTensor - size: 1\n",
       "  nclasses : 10\n",
       "  _max : FloatTensor - size: 1\n",
       "  _target : FloatTensor - empty\n",
       "  unionvalids : FloatTensor - size: 10\n",
       "  totalValid : 0.8839\n",
       "}\n"
      ]
     },
     "execution_count": 43,
     "metadata": {},
     "output_type": "execute_result"
    },
    {
     "data": {
      "text/plain": [
       "==> saving model to /home/ar/dev-git.git/dev.python/ML_Experiments/DeepAltoros_Project/test_Torch/results/model.net\t\n"
      ]
     },
     "execution_count": 43,
     "metadata": {},
     "output_type": "execute_result"
    },
    {
     "data": {
      "text/plain": [
       "==> testing on test set:\t\n"
      ]
     },
     "execution_count": 43,
     "metadata": {},
     "output_type": "execute_result"
    },
    {
     "data": {
      "text/plain": [
       "Progress: 6179 / 10000\t\n"
      ]
     },
     "execution_count": 43,
     "metadata": {},
     "output_type": "execute_result"
    },
    {
     "data": {
      "text/plain": [
       "\n",
       "==> time to test 1 sample = 0.096805191040039ms\t\n",
       "ConfusionMatrix:\n",
       "[[     955       0       2       3       0       9       5       2       3       1]   97.449% \t[class: 1]\n",
       " [       0    1076       3      10       0       1       5       2      38       0]   94.802% \t[class: 2]\n",
       " [      10       3     914       9       3       5      15      11      59       3]   88.566% \t[class: 3]\n",
       " [       5       1      28     872       2      55       6      10      24       7]   86.337% \t[class: 4]\n",
       " [       0       1      18       1     841       3      28      13      17      60]   85.642% \t[class: 5]\n",
       " [      17       2       3      27       4     775      19       8      32       5]   86.883% \t[class: 6]\n",
       " [      11       2       8       2       2      20     908       2       3       0]   94.781% \t[class: 7]\n",
       " [       2       5      23      10       4       2       0     955       6      21]   92.899% \t[class: 8]\n",
       " [      10       4       8      15       7      29      15      11     869       6]   89.220% \t[class: 9]\n",
       " [      10       6       2       6      14       9       1      53      10     898]]  88.999% \t[class: 0]\n",
       " + average row correct: 90.557656884193% \n",
       " + average rowUcol correct (VOC measure): 82.86970436573% \n",
       " + global correct: 90.63%\n",
       "{\n",
       "  valids : FloatTensor - size: 10\n",
       "  mat : LongTensor - size: 10x10\n",
       "  averageUnionValid : 0.8286970436573\n",
       "  _targ_idx : LongTensor - empty\n",
       "  averageValid : 0.90557656884193\n",
       "  classes : \n",
       "   "
      ]
     },
     "execution_count": 43,
     "metadata": {},
     "output_type": "execute_result"
    },
    {
     "data": {
      "text/plain": [
       " {\n",
       "      1 : 1\n",
       "      2 : 2\n",
       "      3 : 3\n",
       "      4 : 4\n",
       "      5 : 5\n",
       "      6 : 6\n",
       "      7 : 7\n",
       "      8 : 8\n",
       "      9 : 9\n",
       "      10 : 0\n",
       "    }\n",
       "  _prediction : FloatTensor - size: 10\n",
       "  _pred_idx : LongTensor - size: 1\n",
       "  nclasses : 10\n",
       "  _max : FloatTensor - size: 1\n",
       "  _target : FloatTensor - empty\n",
       "  unionvalids : FloatTensor - size: 10\n",
       "  totalValid : 0.9063\n",
       "}\n",
       "==> trained model weights:\t\n"
      ]
     },
     "execution_count": 43,
     "metadata": {},
     "output_type": "execute_result"
    },
    {
     "data": {
      "image/png": "[encoded data removed]",
      "text/plain": [
       "Console does not support images"
      ]
     },
     "metadata": {
      "image/png": {
       "height": 68,
       "width": 204
      }
     },
     "output_type": "display_data"
    }
   ],
   "source": [
    "numEpoch=1\n",
    "for i=1,numEpoch do\n",
    "    train()\n",
    "    test()\n",
    "end\n",
    "print '==> trained model weights:'\n",
    "itorch.image(model:get(2).weight:view(10,1,32,32))"
   ]
  },
  {
   "cell_type": "code",
   "execution_count": null,
   "metadata": {
    "collapsed": true
   },
   "outputs": [],
   "source": []
  }
 ],
 "metadata": {
  "kernelspec": {
   "display_name": "iTorch",
   "language": "lua",
   "name": "itorch"
  },
  "language_info": {
   "name": "lua",
   "version": "5.1"
  }
 },
 "nbformat": 4,
 "nbformat_minor": 0
}
