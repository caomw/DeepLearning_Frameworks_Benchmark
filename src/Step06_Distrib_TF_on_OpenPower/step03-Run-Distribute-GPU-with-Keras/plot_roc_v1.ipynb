{
 "cells": [
  {
   "cell_type": "code",
   "execution_count": null,
   "metadata": {
    "collapsed": true
   },
   "outputs": [],
   "source": [
    "%pylab inline\n",
    "import sklearn\n",
    "from sklearn.metrics import roc_curve, auc\n",
    "import numpy as np\n",
    "import pandas as pd\n",
    "import os"
   ]
  },
  {
   "cell_type": "code",
   "execution_count": null,
   "metadata": {
    "collapsed": true
   },
   "outputs": [],
   "source": [
    "fcsv='/home/ar/data/Altoros_OpenPower/subdataset_PINK_10000_JPEG_Val/idx-cls.txt-prob.csv'\n",
    "dataCSV=pd.read_csv(fcsv)\n",
    "labelReal = dataCSV['lblidx'].as_matrix()\n",
    "labelProb = dataCSV['probC1'].as_matrix()\n",
    "fpr, tpr, qq = roc_curve(labelReal, labelProb)\n",
    "tAUC = auc(fpr, tpr)"
   ]
  },
  {
   "cell_type": "code",
   "execution_count": null,
   "metadata": {
    "collapsed": true
   },
   "outputs": [],
   "source": [
    "tlbl=os.path.basename(fcsv)\n",
    "plt.figure(figsize=(12,8))\n",
    "plt.hold(True)\n",
    "plt.plot(fpr,tpr, linewidth=4.0)\n",
    "plt.plot([0, 1], [0, 1], 'k--', linewidth=2.0)\n",
    "plt.hold(False)\n",
    "plt.grid(True)\n",
    "plt.title('ROC #Samples (Validation) = %d (%d/%d)' % (len(labelProb), np.sum(labelReal==0), np.sum(labelReal==1)))\n",
    "plt.legend(['AUC=%0.3f (%s)' % (tAUC,tlbl)])\n",
    "plt.show()"
   ]
  }
 ],
 "metadata": {
  "kernelspec": {
   "display_name": "Python 2",
   "language": "python",
   "name": "python2"
  },
  "language_info": {
   "codemirror_mode": {
    "name": "ipython",
    "version": 2
   },
   "file_extension": ".py",
   "mimetype": "text/x-python",
   "name": "python",
   "nbconvert_exporter": "python",
   "pygments_lexer": "ipython2",
   "version": "2.7.6"
  }
 },
 "nbformat": 4,
 "nbformat_minor": 1
}
